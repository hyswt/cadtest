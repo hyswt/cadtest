{
 "cells": [
  {
   "cell_type": "code",
   "execution_count": 2,
   "metadata": {},
   "outputs": [
    {
     "name": "stdout",
     "output_type": "stream",
     "text": [
      "call now():\n",
      "2015-3-25\n"
     ]
    }
   ],
   "source": [
    "def log(func):\n",
    "    def wrapper(*args, **kw):\n",
    "        print('call %s():' % func.__name__)\n",
    "        return func(*args, **kw)\n",
    "    return wrapper\n",
    "\n",
    "@log\n",
    "def now():\n",
    "    print('2015-3-25')\n",
    "now()"
   ]
  },
  {
   "cell_type": "code",
   "execution_count": 9,
   "metadata": {},
   "outputs": [
    {
     "name": "stdout",
     "output_type": "stream",
     "text": [
      "zvdp89\n"
     ]
    }
   ],
   "source": [
    "import re\n",
    "numbers = ['zvdp89', 'zvdp01', 'zvdp234']\n",
    "from tool import load_accdb\n",
    "# 定义要匹配的数字\n",
    "digit = '9'\n",
    "# dict_=load_accdb.func(\"Data_深沟球\",\"P6\",7300, \"d\", 30)\n",
    "# print(dict_)\n",
    "# 定义匹配的正则表达式\n",
    "regex = r'(?:zvdp\\d*)(?:%s|\\d*$)' % digit\n",
    "# 遍历数字列表，进行匹配\n",
    "for num in numbers:\n",
    "    match = re.search(regex, num)\n",
    "    if match:\n",
    "        if match.group().startswith('zvdp'):\n",
    "            if digit in match.group():\n",
    "                print(match.group())\n",
    "        \n"
   ]
  }
 ],
 "metadata": {
  "kernelspec": {
   "display_name": "Python 3",
   "language": "python",
   "name": "python3"
  },
  "language_info": {
   "codemirror_mode": {
    "name": "ipython",
    "version": 3
   },
   "file_extension": ".py",
   "mimetype": "text/x-python",
   "name": "python",
   "nbconvert_exporter": "python",
   "pygments_lexer": "ipython3",
   "version": "3.11.2"
  },
  "orig_nbformat": 4
 },
 "nbformat": 4,
 "nbformat_minor": 2
}
